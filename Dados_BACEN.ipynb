{
 "cells": [
  {
   "cell_type": "code",
   "execution_count": null,
   "id": "bd5cd7fd",
   "metadata": {},
   "outputs": [],
   "source": [
    "import pandas as pd\n",
    "import numpy as np\n",
    "import matplotlib.pyplot as plt\n",
    "import pandas_datareader.data as web\n",
    "\n",
    "#variáveis\n",
    "data_inicio = '2020-01-01'\n",
    "data_final = '2021-09-23'\n",
    "codigo_bcb =  #por exemplo: 432 selic meta\n",
    "\n",
    "#puxando os dados\n",
    "url ='http://api.bcb.gov.br/dados/serie/bcdata.sgs.{}/dados?formato=json'.format(codigo_bcb)\n",
    "df = pd.read_json(url)\n",
    "df['data'] = pd.to_datetime(df['data'], dayfirst=True)\n",
    "df.set_index('data', inplace=True)\n",
    "df = df[(df.index >= data_inicio)&(df.index <= data_final)]\n",
    "\n",
    "#Data Frame / Tabela com os dados\n",
    "display(df)\n",
    "\n",
    "#Construindo Gráfico\n",
    "plt.figure(figsize=(15,8))\n",
    "plt.plot(df)\n",
    "plt.xlabel('ANO')\n",
    "plt.ylabel('#VARIAVEL') \n",
    "plt.grid(True)\n",
    "plt.title('#TITULO DO GRAFICO')\n",
    "\n",
    "plt.show()\n"
   ]
  }
 ],
 "metadata": {
  "kernelspec": {
   "display_name": "Python 3",
   "language": "python",
   "name": "python3"
  },
  "language_info": {
   "codemirror_mode": {
    "name": "ipython",
    "version": 3
   },
   "file_extension": ".py",
   "mimetype": "text/x-python",
   "name": "python",
   "nbconvert_exporter": "python",
   "pygments_lexer": "ipython3",
   "version": "3.8.8"
  }
 },
 "nbformat": 4,
 "nbformat_minor": 5
}
